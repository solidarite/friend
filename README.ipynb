{
 "cells": [
  {
   "cell_type": "markdown",
   "metadata": {},
   "source": [
    "# Introduction\n",
    "\n",
    "Houses prices is a small standard Regression problem, the data set was token from a kaggle competition, formatted in the AutoML format."
   ]
  },
  {
   "cell_type": "code",
   "execution_count": 14,
   "metadata": {},
   "outputs": [],
   "source": [
    "model_dir = 'sample_code_submission/'          \n",
    "problem_dir = 'ingestion_program/'  \n",
    "score_dir = 'scoring_program/'\n",
    "%matplotlib inline\n",
    "import numpy as np\n",
    "import pandas as pd\n",
    "import pylab as plt\n",
    "from sys import path; path.append(model_dir); path.append(problem_dir); path.append(score_dir); \n",
    "import seaborn as sns; sns.set()"
   ]
  },
  {
   "cell_type": "markdown",
   "metadata": {},
   "source": [
    "# Step 1: Exploratory data analysis\n",
    "\n",
    "We provide sample_data with the starting kit, but to prepare your submission, you must fetch the public_data from the challenge website and point to it.\n"
   ]
  },
  {
   "cell_type": "code",
   "execution_count": 15,
   "metadata": {},
   "outputs": [
    {
     "name": "stdout",
     "output_type": "stream",
     "text": [
      "sample_data/houseprice_feat.name      sample_data/houseprice_train.data\r\n",
      "sample_data/houseprice_label.name     sample_data/houseprice_train.solution\r\n",
      "sample_data/houseprice_test.data      sample_data/houseprice_valid.data\r\n",
      "sample_data/houseprice_test.solution  sample_data/houseprice_valid.solution\r\n"
     ]
    }
   ],
   "source": [
    "datadir = 'sample_data/'             \n",
    "basename = 'houseprice'\n",
    "!ls $datadir*"
   ]
  },
  {
   "cell_type": "code",
   "execution_count": 16,
   "metadata": {},
   "outputs": [
    {
     "name": "stdout",
     "output_type": "stream",
     "text": [
      "Number of examples = 100\n",
      "Number of features = 18\n",
      "Number of variables to predict = 1\n"
     ]
    },
    {
     "name": "stderr",
     "output_type": "stream",
     "text": [
      "/home/jl/anaconda2/lib/python2.7/site-packages/ipykernel_launcher.py:18: FutureWarning: specifying 'categories' or 'ordered' in .astype() is deprecated; pass a CategoricalDtype instead\n",
      "/home/jl/anaconda2/lib/python2.7/site-packages/ipykernel_launcher.py:19: FutureWarning: specifying 'categories' or 'ordered' in .astype() is deprecated; pass a CategoricalDtype instead\n",
      "/home/jl/anaconda2/lib/python2.7/site-packages/ipykernel_launcher.py:20: FutureWarning: specifying 'categories' or 'ordered' in .astype() is deprecated; pass a CategoricalDtype instead\n",
      "/home/jl/anaconda2/lib/python2.7/site-packages/ipykernel_launcher.py:21: FutureWarning: specifying 'categories' or 'ordered' in .astype() is deprecated; pass a CategoricalDtype instead\n",
      "/home/jl/anaconda2/lib/python2.7/site-packages/ipykernel_launcher.py:24: FutureWarning: specifying 'categories' or 'ordered' in .astype() is deprecated; pass a CategoricalDtype instead\n",
      "/home/jl/anaconda2/lib/python2.7/site-packages/ipykernel_launcher.py:25: FutureWarning: specifying 'categories' or 'ordered' in .astype() is deprecated; pass a CategoricalDtype instead\n",
      "/home/jl/anaconda2/lib/python2.7/site-packages/ipykernel_launcher.py:26: FutureWarning: specifying 'categories' or 'ordered' in .astype() is deprecated; pass a CategoricalDtype instead\n",
      "/home/jl/anaconda2/lib/python2.7/site-packages/ipykernel_launcher.py:27: FutureWarning: specifying 'categories' or 'ordered' in .astype() is deprecated; pass a CategoricalDtype instead\n",
      "/home/jl/anaconda2/lib/python2.7/site-packages/ipykernel_launcher.py:30: FutureWarning: specifying 'categories' or 'ordered' in .astype() is deprecated; pass a CategoricalDtype instead\n",
      "/home/jl/anaconda2/lib/python2.7/site-packages/ipykernel_launcher.py:31: FutureWarning: specifying 'categories' or 'ordered' in .astype() is deprecated; pass a CategoricalDtype instead\n",
      "/home/jl/anaconda2/lib/python2.7/site-packages/ipykernel_launcher.py:32: FutureWarning: specifying 'categories' or 'ordered' in .astype() is deprecated; pass a CategoricalDtype instead\n",
      "/home/jl/anaconda2/lib/python2.7/site-packages/ipykernel_launcher.py:33: FutureWarning: specifying 'categories' or 'ordered' in .astype() is deprecated; pass a CategoricalDtype instead\n"
     ]
    }
   ],
   "source": [
    "# We read data as Panda data frames\n",
    "feat_name = pd.read_csv(datadir+basename + '_feat.name', header=None)\n",
    "label_name = pd.read_csv(datadir+basename + '_label.name', header=None)\n",
    "\n",
    "\n",
    "X = pd.read_csv(datadir+basename + '_train.data', sep=' ', names = np.ravel(feat_name))\n",
    "Y = pd.read_csv(datadir+ basename + '_train.solution', sep=' ', names = np.ravel(label_name))\n",
    "\n",
    "\n",
    "\n",
    "X_valid = pd.read_csv(datadir+basename + '_valid.data', sep=' ', names = np.ravel(feat_name))\n",
    "Y_valid = pd.read_csv(datadir+ basename + '_valid.solution', sep=' ', names = np.ravel(label_name))\n",
    "X_test = pd.read_csv(datadir+basename + '_test.data', sep=' ', names = np.ravel(feat_name))\n",
    "Y_test = pd.read_csv(datadir+ basename + '_test.solution', sep=' ', names = np.ravel(label_name))\n",
    "\n",
    "\n",
    "\n",
    "X['waterfront'] = X['waterfront'].astype('category',ordered=True)\n",
    "X['view'] = X['view'].astype('category',ordered=True)\n",
    "X['condition'] = X['condition'].astype('category',ordered=True)\n",
    "X['grade'] = X['grade'].astype('category',ordered=False)\n",
    "\n",
    "\n",
    "X_valid['waterfront'] = X_valid['waterfront'].astype('category',ordered=True)\n",
    "X_valid['view'] = X_valid['view'].astype('category',ordered=True)\n",
    "X_valid['condition'] = X_valid['condition'].astype('category',ordered=True)\n",
    "X_valid['grade'] = X_valid['grade'].astype('category',ordered=False)\n",
    "\n",
    "\n",
    "X_test['waterfront'] = X_test['waterfront'].astype('category',ordered=True)\n",
    "X_test['view'] = X_test['view'].astype('category',ordered=True)\n",
    "X_test['condition'] = X_test['condition'].astype('category',ordered=True)\n",
    "X_test['grade'] = X_test['grade'].astype('category',ordered=False)\n",
    "\n",
    "[patnum, featnum] = X.shape\n",
    "[patnum2, classnum] = Y.shape\n",
    "assert(patnum==patnum2)\n",
    "print 'Number of examples = %d' % patnum\n",
    "print 'Number of features = %d' % featnum\n",
    "print 'Number of variables to predict = %d' % classnum"
   ]
  },
  {
   "cell_type": "code",
   "execution_count": null,
   "metadata": {},
   "outputs": [
    {
     "data": {
      "text/html": [
       "<div>\n",
       "<style scoped>\n",
       "    .dataframe tbody tr th:only-of-type {\n",
       "        vertical-align: middle;\n",
       "    }\n",
       "\n",
       "    .dataframe tbody tr th {\n",
       "        vertical-align: top;\n",
       "    }\n",
       "\n",
       "    .dataframe thead th {\n",
       "        text-align: right;\n",
       "    }\n",
       "</style>\n",
       "<table border=\"1\" class=\"dataframe\">\n",
       "  <thead>\n",
       "    <tr style=\"text-align: right;\">\n",
       "      <th></th>\n",
       "      <th>bedrooms</th>\n",
       "      <th>bathrooms</th>\n",
       "      <th>sqft_living</th>\n",
       "      <th>sqft_lot</th>\n",
       "      <th>floors</th>\n",
       "      <th>sqft_above</th>\n",
       "      <th>sqft_basement</th>\n",
       "      <th>yr_built</th>\n",
       "      <th>yr_renovated</th>\n",
       "      <th>zipcode</th>\n",
       "      <th>lat</th>\n",
       "      <th>long</th>\n",
       "      <th>sqft_living15</th>\n",
       "      <th>sqft_lot15</th>\n",
       "    </tr>\n",
       "  </thead>\n",
       "  <tbody>\n",
       "    <tr>\n",
       "      <th>count</th>\n",
       "      <td>100.000000</td>\n",
       "      <td>100.000000</td>\n",
       "      <td>100.000000</td>\n",
       "      <td>100.000000</td>\n",
       "      <td>100.000000</td>\n",
       "      <td>100.000000</td>\n",
       "      <td>100.000000</td>\n",
       "      <td>100.000000</td>\n",
       "      <td>100.000000</td>\n",
       "      <td>100.000000</td>\n",
       "      <td>100.0</td>\n",
       "      <td>100.000000</td>\n",
       "      <td>100.000000</td>\n",
       "      <td>100.000000</td>\n",
       "    </tr>\n",
       "    <tr>\n",
       "      <th>mean</th>\n",
       "      <td>3.270000</td>\n",
       "      <td>1.800000</td>\n",
       "      <td>2109.030000</td>\n",
       "      <td>14252.370000</td>\n",
       "      <td>1.530000</td>\n",
       "      <td>1842.120000</td>\n",
       "      <td>266.910000</td>\n",
       "      <td>1970.800000</td>\n",
       "      <td>120.080000</td>\n",
       "      <td>98086.130000</td>\n",
       "      <td>47.0</td>\n",
       "      <td>-121.930000</td>\n",
       "      <td>2015.720000</td>\n",
       "      <td>13273.380000</td>\n",
       "    </tr>\n",
       "    <tr>\n",
       "      <th>std</th>\n",
       "      <td>0.802207</td>\n",
       "      <td>0.778499</td>\n",
       "      <td>965.116306</td>\n",
       "      <td>35109.687847</td>\n",
       "      <td>0.610597</td>\n",
       "      <td>825.823975</td>\n",
       "      <td>421.738899</td>\n",
       "      <td>32.413365</td>\n",
       "      <td>477.691284</td>\n",
       "      <td>53.207551</td>\n",
       "      <td>0.0</td>\n",
       "      <td>0.256432</td>\n",
       "      <td>624.246132</td>\n",
       "      <td>33179.528865</td>\n",
       "    </tr>\n",
       "    <tr>\n",
       "      <th>min</th>\n",
       "      <td>2.000000</td>\n",
       "      <td>0.000000</td>\n",
       "      <td>590.000000</td>\n",
       "      <td>987.000000</td>\n",
       "      <td>1.000000</td>\n",
       "      <td>590.000000</td>\n",
       "      <td>0.000000</td>\n",
       "      <td>1905.000000</td>\n",
       "      <td>0.000000</td>\n",
       "      <td>98001.000000</td>\n",
       "      <td>47.0</td>\n",
       "      <td>-122.000000</td>\n",
       "      <td>1030.000000</td>\n",
       "      <td>1230.000000</td>\n",
       "    </tr>\n",
       "    <tr>\n",
       "      <th>25%</th>\n",
       "      <td>3.000000</td>\n",
       "      <td>1.000000</td>\n",
       "      <td>1417.500000</td>\n",
       "      <td>4658.250000</td>\n",
       "      <td>1.000000</td>\n",
       "      <td>1200.000000</td>\n",
       "      <td>0.000000</td>\n",
       "      <td>1947.000000</td>\n",
       "      <td>0.000000</td>\n",
       "      <td>98041.500000</td>\n",
       "      <td>47.0</td>\n",
       "      <td>-122.000000</td>\n",
       "      <td>1530.000000</td>\n",
       "      <td>5206.750000</td>\n",
       "    </tr>\n",
       "    <tr>\n",
       "      <th>50%</th>\n",
       "      <td>3.000000</td>\n",
       "      <td>2.000000</td>\n",
       "      <td>1940.000000</td>\n",
       "      <td>7054.000000</td>\n",
       "      <td>1.000000</td>\n",
       "      <td>1625.000000</td>\n",
       "      <td>0.000000</td>\n",
       "      <td>1975.500000</td>\n",
       "      <td>0.000000</td>\n",
       "      <td>98097.000000</td>\n",
       "      <td>47.0</td>\n",
       "      <td>-122.000000</td>\n",
       "      <td>1930.000000</td>\n",
       "      <td>7200.000000</td>\n",
       "    </tr>\n",
       "    <tr>\n",
       "      <th>75%</th>\n",
       "      <td>4.000000</td>\n",
       "      <td>2.000000</td>\n",
       "      <td>2567.500000</td>\n",
       "      <td>11995.500000</td>\n",
       "      <td>2.000000</td>\n",
       "      <td>2295.000000</td>\n",
       "      <td>465.000000</td>\n",
       "      <td>2000.000000</td>\n",
       "      <td>0.000000</td>\n",
       "      <td>98122.000000</td>\n",
       "      <td>47.0</td>\n",
       "      <td>-122.000000</td>\n",
       "      <td>2322.500000</td>\n",
       "      <td>9450.000000</td>\n",
       "    </tr>\n",
       "    <tr>\n",
       "      <th>max</th>\n",
       "      <td>5.000000</td>\n",
       "      <td>4.000000</td>\n",
       "      <td>6330.000000</td>\n",
       "      <td>308080.000000</td>\n",
       "      <td>3.000000</td>\n",
       "      <td>4900.000000</td>\n",
       "      <td>1510.000000</td>\n",
       "      <td>2014.000000</td>\n",
       "      <td>2013.000000</td>\n",
       "      <td>98199.000000</td>\n",
       "      <td>47.0</td>\n",
       "      <td>-121.000000</td>\n",
       "      <td>3890.000000</td>\n",
       "      <td>247856.000000</td>\n",
       "    </tr>\n",
       "  </tbody>\n",
       "</table>\n",
       "</div>"
      ],
      "text/plain": [
       "         bedrooms   bathrooms  sqft_living       sqft_lot      floors  \\\n",
       "count  100.000000  100.000000   100.000000     100.000000  100.000000   \n",
       "mean     3.270000    1.800000  2109.030000   14252.370000    1.530000   \n",
       "std      0.802207    0.778499   965.116306   35109.687847    0.610597   \n",
       "min      2.000000    0.000000   590.000000     987.000000    1.000000   \n",
       "25%      3.000000    1.000000  1417.500000    4658.250000    1.000000   \n",
       "50%      3.000000    2.000000  1940.000000    7054.000000    1.000000   \n",
       "75%      4.000000    2.000000  2567.500000   11995.500000    2.000000   \n",
       "max      5.000000    4.000000  6330.000000  308080.000000    3.000000   \n",
       "\n",
       "        sqft_above  sqft_basement     yr_built  yr_renovated       zipcode  \\\n",
       "count   100.000000     100.000000   100.000000    100.000000    100.000000   \n",
       "mean   1842.120000     266.910000  1970.800000    120.080000  98086.130000   \n",
       "std     825.823975     421.738899    32.413365    477.691284     53.207551   \n",
       "min     590.000000       0.000000  1905.000000      0.000000  98001.000000   \n",
       "25%    1200.000000       0.000000  1947.000000      0.000000  98041.500000   \n",
       "50%    1625.000000       0.000000  1975.500000      0.000000  98097.000000   \n",
       "75%    2295.000000     465.000000  2000.000000      0.000000  98122.000000   \n",
       "max    4900.000000    1510.000000  2014.000000   2013.000000  98199.000000   \n",
       "\n",
       "         lat        long  sqft_living15     sqft_lot15  \n",
       "count  100.0  100.000000     100.000000     100.000000  \n",
       "mean    47.0 -121.930000    2015.720000   13273.380000  \n",
       "std      0.0    0.256432     624.246132   33179.528865  \n",
       "min     47.0 -122.000000    1030.000000    1230.000000  \n",
       "25%     47.0 -122.000000    1530.000000    5206.750000  \n",
       "50%     47.0 -122.000000    1930.000000    7200.000000  \n",
       "75%     47.0 -122.000000    2322.500000    9450.000000  \n",
       "max     47.0 -121.000000    3890.000000  247856.000000  "
      ]
     },
     "execution_count": 17,
     "metadata": {},
     "output_type": "execute_result"
    }
   ],
   "source": [
    "X.describe()"
   ]
  },
  {
   "cell_type": "code",
   "execution_count": null,
   "metadata": {},
   "outputs": [],
   "source": [
    "Y.head()"
   ]
  },
  {
   "cell_type": "code",
   "execution_count": null,
   "metadata": {},
   "outputs": [],
   "source": [
    "# Here we add the target values as a last column, this is convenient to use seaborn\n",
    "numerical_target = Y['price'] \n",
    "\n",
    "XY = X.assign(price=numerical_target.values) \n"
   ]
  },
  {
   "cell_type": "markdown",
   "metadata": {},
   "source": [
    "Let's first display the distribution of the target column (price) using a boxplot."
   ]
  },
  {
   "cell_type": "code",
   "execution_count": null,
   "metadata": {},
   "outputs": [],
   "source": []
  },
  {
   "cell_type": "code",
   "execution_count": null,
   "metadata": {
    "scrolled": true
   },
   "outputs": [],
   "source": [
    "var = 'bedrooms'\n",
    "f, ax = plt.subplots(figsize=(14, 6))\n",
    "fig = sns.boxplot(x=var, y='price', data=XY)\n",
    "fig.axis(ymin=0, ymax=1500000)\n"
   ]
  },
  {
   "cell_type": "markdown",
   "metadata": {},
   "source": [
    "we can also use a histogram for our target variable"
   ]
  },
  {
   "cell_type": "code",
   "execution_count": null,
   "metadata": {},
   "outputs": [],
   "source": [
    "var = 'grade'\n",
    "f, ax = plt.subplots(figsize=(12, 6))\n",
    "fig = sns.boxplot(x=var, y='price', data=XY)\n",
    "fig.axis(ymin=0, ymax=1750000)"
   ]
  },
  {
   "cell_type": "code",
   "execution_count": null,
   "metadata": {},
   "outputs": [],
   "source": [
    "var = 'bathrooms'\n",
    "f, ax = plt.subplots(figsize=(14, 6))\n",
    "fig = sns.boxplot(x=var, y=\"price\", data=XY)\n",
    "fig.axis(ymin=0, ymax=3500000);"
   ]
  },
  {
   "cell_type": "code",
   "execution_count": null,
   "metadata": {},
   "outputs": [],
   "source": [
    "X"
   ]
  },
  {
   "cell_type": "code",
   "execution_count": null,
   "metadata": {},
   "outputs": [],
   "source": []
  },
  {
   "cell_type": "code",
   "execution_count": null,
   "metadata": {},
   "outputs": [],
   "source": [
    "X.plot(kind='bar' )"
   ]
  },
  {
   "cell_type": "code",
   "execution_count": null,
   "metadata": {},
   "outputs": [],
   "source": [
    "plt.hist(XY.price, bins = 25)"
   ]
  },
  {
   "cell_type": "markdown",
   "metadata": {},
   "source": [
    "Immediately, we notice that the distribution is skewed towards cheaper homes. To make the distribution more symmetric, we can use its logarithm:"
   ]
  },
  {
   "cell_type": "code",
   "execution_count": null,
   "metadata": {},
   "outputs": [],
   "source": [
    "plt.hist(np.log(XY.price), bins = 25)"
   ]
  },
  {
   "cell_type": "code",
   "execution_count": null,
   "metadata": {},
   "outputs": [],
   "source": []
  },
  {
   "cell_type": "code",
   "execution_count": null,
   "metadata": {},
   "outputs": [],
   "source": [
    "sns.stripplot(x='bedrooms', y='price',data=XY)"
   ]
  },
  {
   "cell_type": "markdown",
   "metadata": {},
   "source": [
    "The graph indicates that the relation of price with bedrooms. Price goes up with number of bedrooms upto 6 and then comes down as no of bedrooms increase."
   ]
  },
  {
   "cell_type": "code",
   "execution_count": null,
   "metadata": {},
   "outputs": [],
   "source": [
    "sns.stripplot(x='grade', y='price',data=XY, size=5)\n"
   ]
  },
  {
   "cell_type": "markdown",
   "metadata": {},
   "source": [
    "Price of the house is dependent on grade of the house, higher the grade higher the price."
   ]
  },
  {
   "cell_type": "code",
   "execution_count": null,
   "metadata": {},
   "outputs": [],
   "source": [
    "df=XY\n",
    "df.loc[df['yr_renovated'] != 0,'age_of_renov'] = 2015-df.loc[df['yr_renovated'] != 0,'yr_renovated']\n",
    "\n",
    "sns.regplot(x='age_of_renov',y='price',data=XY)"
   ]
  },
  {
   "cell_type": "markdown",
   "metadata": {},
   "source": [
    "the relation between the price and age of renovation"
   ]
  },
  {
   "cell_type": "code",
   "execution_count": null,
   "metadata": {},
   "outputs": [],
   "source": [
    "sns.regplot(x='sqft_living',y='price',data=XY)"
   ]
  },
  {
   "cell_type": "code",
   "execution_count": null,
   "metadata": {},
   "outputs": [],
   "source": [
    "sns.regplot(x='sqft_basement',y='price',data=XY)"
   ]
  },
  {
   "cell_type": "code",
   "execution_count": null,
   "metadata": {},
   "outputs": [],
   "source": [
    "sns.regplot(x='sqft_above',y='price',data=XY)\n"
   ]
  },
  {
   "cell_type": "code",
   "execution_count": null,
   "metadata": {
    "scrolled": false
   },
   "outputs": [],
   "source": [
    "sns.set()\n",
    "cols = ['price', 'sqft_living', 'grade', 'sqft_above', 'sqft_living15', 'bedrooms','bathrooms']\n",
    "sns.pairplot(XY[cols], size = 2.5,  palette='afmhot')\n",
    "plt.show();"
   ]
  },
  {
   "cell_type": "code",
   "execution_count": null,
   "metadata": {},
   "outputs": [],
   "source": [
    "print type(X)\n",
    "\n",
    "confusion=XY.drop(columns=['lat','age_of_renov'])\n",
    "\n",
    "plt.figure(figsize=(5,5))\n",
    "#X=X.assign(price = Y)\n",
    "#X=X.drop('lat',1)\n",
    "sns.heatmap(confusion.corr(), cmap='hot')\n"
   ]
  },
  {
   "cell_type": "markdown",
   "metadata": {},
   "source": [
    "# Building predictive models\n",
    "The initial classifier in your sandbox.\n",
    "\n"
   ]
  },
  {
   "cell_type": "code",
   "execution_count": null,
   "metadata": {},
   "outputs": [],
   "source": [
    "X = X.values\n",
    "y=numerical_target \n",
    "\n",
    "X_test = X_test.values\n",
    "y_test=Y_test['price']\n",
    "\n",
    "X_valid = X_valid.values\n",
    "y_valid=Y_valid['price']\n",
    "\n",
    "from sklearn.base import BaseEstimator\n",
    "from sklearn.ensemble import RandomForestClassifier\n",
    "from sklearn import datasets, linear_model\n",
    "from sklearn.tree import DecisionTreeRegressor\n",
    "\n",
    "class Classifier(BaseEstimator):\n",
    "    def __init__(self):\n",
    "        pass\n",
    "\n",
    "    def fit(self, X, y):\n",
    "        self.clf = linear_model.LinearRegression()\n",
    "        self.clf.fit(X, y)\n",
    "\n",
    "    def predict(self, X):\n",
    "        return self.clf.predict(X)\n",
    "\n",
    "    def predict_proba(self, X):\n",
    "        return self.clf.predict_proba(X)"
   ]
  },
  {
   "cell_type": "code",
   "execution_count": null,
   "metadata": {},
   "outputs": [],
   "source": [
    "from sklearn.cross_validation import StratifiedShuffleSplit\n",
    "from sklearn.metrics import accuracy_score\n",
    "from sklearn.metrics import confusion_matrix, mean_squared_error\n",
    "from sklearn import datasets, linear_model\n",
    "from sklearn.metrics import mean_squared_error, r2_score\n",
    "from sklearn.model_selection import KFold # import KFold --> do the cross-validation\n",
    "from numpy import zeros, mean\n",
    "\n",
    "nb_split=3\n",
    "kf = KFold(nb_split,True) # Define the split - into 2 folds \n",
    "i=0\n",
    "scores = zeros(nb_split)\n",
    "\n",
    "    \n",
    "for idx_t, idx_v in kf.split(X):\n",
    "    Xtr = X[idx_t]\n",
    "    Ytr = y[idx_t]\n",
    "   \n",
    "    Xva = X[idx_v]\n",
    "    Yva = y[idx_v]\n",
    "    clf = Classifier()\n",
    "    clf.fit(Xtr, Ytr)\n",
    "    Y_predict = clf.predict(Xva)\n",
    "    scores[i] =r2_score(Yva,Y_predict )\n",
    "    print 'Fold', i+1, 'R2 score metric = ', scores[i]\n",
    "    i=i+1\n",
    "print 'Average score = ', mean(scores)"
   ]
  },
  {
   "cell_type": "code",
   "execution_count": null,
   "metadata": {},
   "outputs": [],
   "source": [
    "from sklearn.cross_validation import StratifiedShuffleSplit\n",
    "from sklearn.metrics import accuracy_score\n",
    "\n",
    "# This will perform 2-fold cross-validation\n",
    "# for 0.18 version or newer, use:\n",
    "from sklearn.model_selection import cross_val_score\n",
    "\n",
    "# for pre-0.18 versions of scikit, use:\n",
    "from sklearn.cross_validation import cross_val_score\n",
    "\n",
    "\n",
    "scores = cross_val_score(linear_model.LinearRegression(), X, y, cv=3)\n",
    "print scores"
   ]
  },
  {
   "cell_type": "code",
   "execution_count": null,
   "metadata": {},
   "outputs": [],
   "source": [
    "outdir = 'sample_result_submission'"
   ]
  },
  {
   "cell_type": "code",
   "execution_count": null,
   "metadata": {},
   "outputs": [],
   "source": [
    "from model import model"
   ]
  },
  {
   "cell_type": "code",
   "execution_count": null,
   "metadata": {},
   "outputs": [],
   "source": [
    "M = model()\n",
    "trained_model_name = model_dir + basename\n",
    "M = M.load(trained_model_name)"
   ]
  },
  {
   "cell_type": "code",
   "execution_count": null,
   "metadata": {},
   "outputs": [],
   "source": [
    "if not(M.is_trained):\n",
    "    X_train = X\n",
    "    Y_train = numerical_target\n",
    "    M.fit(X_train, Y_train)  \n",
    "Y_hat_train = M.predict(X) # Optional, not really needed to test on taining examples\n",
    "Y_hat_valid = M.predict(X_valid)\n",
    "Y_hat_test = M.predict(X_test)\n",
    "\n",
    "\n"
   ]
  },
  {
   "cell_type": "markdown",
   "metadata": {},
   "source": [
    "Save the trained model (will be ready to reload next time around) and save the prediction results:"
   ]
  },
  {
   "cell_type": "code",
   "execution_count": null,
   "metadata": {},
   "outputs": [],
   "source": [
    "M.save(trained_model_name)                 \n",
    "result_name = 'sample_result_submission/' + basename\n",
    "#import os\n",
    "#os.write(result_name + '_valid.predict', Y_hat_valid)\n",
    "#os.write(result_name + '_test.predict', Y_hat_test)\n",
    "#!ls $result_name*"
   ]
  },
  {
   "cell_type": "code",
   "execution_count": null,
   "metadata": {},
   "outputs": [],
   "source": []
  },
  {
   "cell_type": "markdown",
   "metadata": {},
   "source": [
    "# Step 3: Making a submission\n",
    "\n",
    "## Unit testing\n",
    "\n",
    "It is <b><span style=\"color:red\">important that you test your submission files before submitting them</span></b>. All you have to do to make a submission is modify the file <code>model.py</code> in the <code>sample_code_submission/</code> directory, then run this test to make sure everything works fine. This is the actual program that will be run on the server to test your submission. "
   ]
  },
  {
   "cell_type": "code",
   "execution_count": null,
   "metadata": {},
   "outputs": [],
   "source": [
    "outdir = 'sample_result_submission'"
   ]
  },
  {
   "cell_type": "code",
   "execution_count": null,
   "metadata": {},
   "outputs": [],
   "source": [
    "!python $problem_dir/ingestion.py $datadir $outdir $problem_dir $model_dir"
   ]
  },
  {
   "cell_type": "markdown",
   "metadata": {},
   "source": [
    "# Making submission"
   ]
  },
  {
   "cell_type": "code",
   "execution_count": null,
   "metadata": {},
   "outputs": [],
   "source": [
    "outdir = 'sample_result_submission'\n",
    "!python2 $problem_dir/ingestion.py $datadir $outdir $problem_dir $model_dir"
   ]
  },
  {
   "cell_type": "code",
   "execution_count": null,
   "metadata": {},
   "outputs": [],
   "source": []
  }
 ],
 "metadata": {
  "anaconda-cloud": {},
  "kernelspec": {
   "display_name": "Python 2",
   "language": "python",
   "name": "python2"
  },
  "language_info": {
   "codemirror_mode": {
    "name": "ipython",
    "version": 2
   },
   "file_extension": ".py",
   "mimetype": "text/x-python",
   "name": "python",
   "nbconvert_exporter": "python",
   "pygments_lexer": "ipython2",
   "version": "2.7.14"
  }
 },
 "nbformat": 4,
 "nbformat_minor": 1
}
